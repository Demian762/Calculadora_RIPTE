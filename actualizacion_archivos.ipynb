{
 "cells": [
  {
   "cell_type": "code",
   "execution_count": 1,
   "metadata": {},
   "outputs": [],
   "source": [
    "import numpy as np\n",
    "import pandas as pd"
   ]
  },
  {
   "cell_type": "code",
   "execution_count": 2,
   "metadata": {},
   "outputs": [],
   "source": [
    "ripte = pd.read_csv('https://infra.datos.gob.ar/catalog/sspm/dataset/158/distribution/158.1/download/remuneracion-imponible-promedio-trabajadores-estables-ripte-total-pais-pesos-serie-mensual.csv')"
   ]
  },
  {
   "cell_type": "code",
   "execution_count": null,
   "metadata": {},
   "outputs": [],
   "source": [
    "\"\"\"\n",
    "Preparación del dataframe general de ripte\n",
    "\"\"\"\n",
    "\n",
    "ripte['variacion'] = ripte['ripte'].pct_change(periods=1)*100\n",
    "\n",
    "ripte['indice'] = 100.0\n",
    "\n",
    "for i in ripte.index:\n",
    "    if i == 0:\n",
    "        continue\n",
    "    ripte.at[i, 'indice'] = ripte.at[i-1,'indice'] * (1+(ripte.at[i,'variacion']/100))\n",
    "\n",
    "ripte['final'] = 100.0\n",
    "alto = 100.0\n",
    "for i in ripte['final'].index:\n",
    "    if ripte.at[i,'indice'] > alto:\n",
    "        alto = ripte.at[i,'indice']\n",
    "    ripte.at[i,'final'] = alto\n",
    "\n",
    "ripte = ripte.fillna(0)\n",
    "ripte = ripte.round(2)\n",
    "\n",
    "ripte['indice_tiempo'] = ripte['indice_tiempo'].astype('datetime64')\n",
    "ripte = ripte.rename(columns={'indice_tiempo':'fechas'})\n",
    "ripte['fechas'] = ripte['fechas'].dt.to_period('M')"
   ]
  },
  {
   "cell_type": "code",
   "execution_count": 3,
   "metadata": {},
   "outputs": [],
   "source": [
    "ripte.to_csv(\"ripte.csv\", index=False)"
   ]
  },
  {
   "cell_type": "code",
   "execution_count": null,
   "metadata": {},
   "outputs": [],
   "source": [
    "\"\"\"\n",
    "Cargando las tasas de una pagina random porque al BNA le chupa un huevo\n",
    "\"\"\"\n",
    "\n",
    "link = 'http://www.abogadosrafaela.com.ar/serviciosaprof/tasas-activas-banco-nacion/'\n",
    "\n",
    "tasas1 = pd.read_html(link, index_col=0, header=0, decimal=','\n",
    "    )[0].astype(float)\n",
    "\n",
    "tasas1 = tasas1.drop(columns='Unnamed: 5')\n",
    "\n",
    "tasas1['2019']['Enero'] = tasas1['2019']['Enero'] * 10000\n",
    "\n",
    "tasas1 = tasas1.apply(lambda x: x/10000)\n",
    "\n",
    "link = 'http://www.abogadosrafaela.com.ar/serviciosaprof/tasas-activas-banco-nacion/'\n",
    "\n",
    "tasas2 = pd.read_html(link, index_col=0, header=0, decimal=','\n",
    "    )[1].astype(float)\n",
    "\n",
    "tasas2['2015']['Noviembre'] = tasas2['2015']['Noviembre'] * 10000\n",
    "tasas2['2016']['Marzo'] = tasas2['2016']['Marzo'] * 10000\n",
    "tasas2['2016']['Septiembre'] = tasas2['2016']['Septiembre'] * 10000\n",
    "tasas2['2018']['Octubre'] = tasas2['2018']['Octubre'] * 10000\n",
    "tasas2['2018']['Noviembre'] = tasas2['2018']['Noviembre'] * 10000\n",
    "\n",
    "tasas2 = tasas2.apply(lambda x: x/10000)\n",
    "\n",
    "tasas = pd.concat([tasas2,tasas1], axis=1)\n",
    "\n",
    "tasas = tasas.drop(columns=['2014','2015','2016'])\n",
    "\n",
    "ultimo = int(tasas.columns.max())+1\n",
    "\n",
    "tasas3 = pd.DataFrame(pd.date_range(start='2017-01',end=str(ultimo),freq='M'))\n",
    "tasas3[0] = tasas3[0].dt.to_period('M')\n",
    "\n",
    "tasas3 = tasas3.rename(columns={0:'fechas'})\n",
    "\n",
    "df = pd.DataFrame()\n",
    "for i in tasas.columns:\n",
    "    dfn = tasas[i]\n",
    "    df = pd.concat([df,dfn])\n",
    "\n",
    "df = df.reset_index()\n",
    "\n",
    "tasas = pd.concat([tasas3,df[0]],axis=1)\n",
    "tasas = tasas.rename(columns={0:'tasas'})"
   ]
  },
  {
   "cell_type": "code",
   "execution_count": null,
   "metadata": {},
   "outputs": [],
   "source": [
    "tasas.to_csv(\"tasas.csv\", index=False)"
   ]
  }
 ],
 "metadata": {
  "kernelspec": {
   "display_name": "Python 3.10.0 64-bit",
   "language": "python",
   "name": "python3"
  },
  "language_info": {
   "codemirror_mode": {
    "name": "ipython",
    "version": 3
   },
   "file_extension": ".py",
   "mimetype": "text/x-python",
   "name": "python",
   "nbconvert_exporter": "python",
   "pygments_lexer": "ipython3",
   "version": "3.10.0"
  },
  "orig_nbformat": 4,
  "vscode": {
   "interpreter": {
    "hash": "bb005c365038adc55fb7897537444f2e763afd05144f871366f10ce7eef6d0d6"
   }
  }
 },
 "nbformat": 4,
 "nbformat_minor": 2
}
