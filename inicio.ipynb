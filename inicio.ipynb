{
 "cells": [
  {
   "cell_type": "code",
   "execution_count": 1,
   "metadata": {},
   "outputs": [],
   "source": [
    "import numpy as np\n",
    "import pandas as pd"
   ]
  },
  {
   "cell_type": "code",
   "execution_count": 25,
   "metadata": {},
   "outputs": [],
   "source": [
    "\"\"\"\n",
    "Inputs de muestra\n",
    "\"\"\"\n",
    "\n",
    "fecha_accidente = \"2020-03\"\n",
    "\n",
    "sueldos = [\n",
    "            58000,\n",
    "            58000,\n",
    "            68000,\n",
    "            70000,\n",
    "            65000,\n",
    "            65000,\n",
    "            65000,\n",
    "            65000,\n",
    "            65000,\n",
    "            75000,\n",
    "            70000,\n",
    "            70000,           \n",
    "]\n",
    "sueldos = list(filter(None, sueldos))\n",
    "sueldos = list(map(float,sueldos))\n",
    "\n",
    "edad = 28\n",
    "\n",
    "incapacidad_actual = 33\n",
    "\n",
    "tipo_accidente = 'in_itinere'#'in_itinere','en_ocasion'"
   ]
  },
  {
   "cell_type": "code",
   "execution_count": 11,
   "metadata": {},
   "outputs": [],
   "source": [
    "ripte = pd.read_csv('https://infra.datos.gob.ar/catalog/sspm/dataset/158/distribution/158.1/download/remuneracion-imponible-promedio-trabajadores-estables-ripte-total-pais-pesos-serie-mensual.csv')"
   ]
  },
  {
   "cell_type": "code",
   "execution_count": 12,
   "metadata": {},
   "outputs": [],
   "source": [
    "\"\"\"\n",
    "Preparación del dataframe general de ripte\n",
    "\"\"\"\n",
    "\n",
    "ripte['variacion'] = ripte['ripte'].pct_change(periods=1)*100\n",
    "\n",
    "ripte['indice'] = 100.0\n",
    "\n",
    "for i in ripte.index:\n",
    "    if i == 0:\n",
    "        continue\n",
    "    ripte.at[i, 'indice'] = ripte.at[i-1,'indice'] * (1+(ripte.at[i,'variacion']/100))\n",
    "\n",
    "ripte['final'] = 100.0\n",
    "alto = 100.0\n",
    "for i in ripte['final'].index:\n",
    "    if ripte.at[i,'indice'] > alto:\n",
    "        alto = ripte.at[i,'indice']\n",
    "    ripte.at[i,'final'] = alto\n",
    "\n",
    "ripte = ripte.fillna(0)\n",
    "ripte = ripte.round(2)\n",
    "\n",
    "ripte['indice_tiempo'] = ripte['indice_tiempo'].astype('datetime64')\n",
    "ripte = ripte.rename(columns={'indice_tiempo':'fechas'})\n",
    "ripte['fechas'] = ripte['fechas'].dt.to_period('M')"
   ]
  },
  {
   "cell_type": "code",
   "execution_count": 17,
   "metadata": {},
   "outputs": [],
   "source": [
    "\"\"\"\n",
    "Creacion y merge del dataframe particular del cliente\n",
    "\"\"\"\n",
    "\n",
    "cliente = pd.DataFrame(sueldos)\n",
    "cliente = cliente.rename(columns={0:'sueldos'})\n",
    "\n",
    "cliente['fechas'] = pd.date_range(end=fecha_accidente,freq='M',periods=len(sueldos))\n",
    "cliente['fechas'] = cliente['fechas'].dt.to_period('M')\n",
    "\n",
    "cliente = pd.merge(cliente, ripte, on='fechas', how='left')\n",
    "cliente = pd.merge(cliente, tasas, on=\"fechas\", how=\"left\")\n",
    "\n",
    "indice = ripte[ripte['fechas']==fecha_accidente].final\n",
    "indice = float(indice)\n",
    "\n",
    "cliente['coeficiente'] = 0.0\n",
    "\n",
    "cliente = cliente.assign(coeficiente = lambda x: (indice/x['final']))\n",
    "cliente = cliente.assign(actualizados = lambda x: (x['sueldos']*x['coeficiente']))\n",
    "cliente = cliente.round(2)"
   ]
  },
  {
   "cell_type": "code",
   "execution_count": 18,
   "metadata": {},
   "outputs": [],
   "source": [
    "\"\"\"\n",
    "Resultado final\n",
    "\"\"\"\n",
    "\n",
    "resultado = cliente['actualizados'].mean().round(2)"
   ]
  },
  {
   "cell_type": "code",
   "execution_count": 15,
   "metadata": {},
   "outputs": [],
   "source": [
    "\"\"\"\n",
    "Cargando las tasas de una pagina random porque al BNA le chupa un huevo\n",
    "\"\"\"\n",
    "\n",
    "link = 'http://www.abogadosrafaela.com.ar/serviciosaprof/tasas-activas-banco-nacion/'\n",
    "\n",
    "tasas1 = pd.read_html(link, index_col=0, header=0, decimal=','\n",
    "    )[0].astype(float)\n",
    "\n",
    "tasas1 = tasas1.drop(columns='Unnamed: 5')\n",
    "\n",
    "tasas1['2019']['Enero'] = tasas1['2019']['Enero'] * 10000\n",
    "\n",
    "tasas1 = tasas1.apply(lambda x: x/10000)\n",
    "\n",
    "link = 'http://www.abogadosrafaela.com.ar/serviciosaprof/tasas-activas-banco-nacion/'\n",
    "\n",
    "tasas2 = pd.read_html(link, index_col=0, header=0, decimal=','\n",
    "    )[1].astype(float)\n",
    "\n",
    "tasas2['2015']['Noviembre'] = tasas2['2015']['Noviembre'] * 10000\n",
    "tasas2['2016']['Marzo'] = tasas2['2016']['Marzo'] * 10000\n",
    "tasas2['2016']['Septiembre'] = tasas2['2016']['Septiembre'] * 10000\n",
    "tasas2['2018']['Octubre'] = tasas2['2018']['Octubre'] * 10000\n",
    "tasas2['2018']['Noviembre'] = tasas2['2018']['Noviembre'] * 10000\n",
    "\n",
    "tasas2 = tasas2.apply(lambda x: x/10000)\n",
    "\n",
    "tasas = pd.concat([tasas2,tasas1], axis=1)\n",
    "\n",
    "tasas = tasas.drop(columns=['2014','2015','2016'])\n",
    "\n",
    "ultimo = int(tasas.columns.max())+1\n",
    "\n",
    "tasas3 = pd.DataFrame(pd.date_range(start='2017-01',end=str(ultimo),freq='M'))\n",
    "tasas3[0] = tasas3[0].dt.to_period('M')\n",
    "\n",
    "tasas3 = tasas3.rename(columns={0:'fechas'})\n",
    "\n",
    "df = pd.DataFrame()\n",
    "for i in tasas.columns:\n",
    "    dfn = tasas[i]\n",
    "    df = pd.concat([df,dfn])\n",
    "\n",
    "df = df.reset_index()\n",
    "\n",
    "tasas = pd.concat([tasas3,df[0]],axis=1)\n",
    "tasas = tasas.rename(columns={0:'tasas'})"
   ]
  },
  {
   "cell_type": "code",
   "execution_count": 16,
   "metadata": {},
   "outputs": [],
   "source": [
    "\"\"\"\n",
    "Hardcodeados los ultimos meses\n",
    "\"\"\"\n",
    "tasas.loc[66,'tasas'] = 4.75   # Este hay que borrarlo eventualmente\n",
    "tasas.loc[67,'tasas'] = 5.017"
   ]
  },
  {
   "cell_type": "code",
   "execution_count": 19,
   "metadata": {},
   "outputs": [],
   "source": [
    "\"\"\"\n",
    "Calculo final con intereses\n",
    "\"\"\"\n",
    "\n",
    "fecha_calculo_final = cliente['fechas'].max()\n",
    "\n",
    "interes = tasas[tasas['fechas'] > fecha_calculo_final]['tasas'].sum()/100 + 1\n",
    "\n",
    "resultado = (resultado * interes).round(2)\n",
    "\n",
    "resultado_ci = 53 * resultado *  (65/edad) * incapacidad_actual/(100)\n",
    "resultado_ci = round(resultado_ci,2)\n",
    "\n",
    "if tipo_accidente == 1:\n",
    "    resultado_ci_final = round(resultado_ci*1.2,2)\n",
    "else:\n",
    "    resultado_ci_final = resultado_ci\n"
   ]
  },
  {
   "cell_type": "code",
   "execution_count": 20,
   "metadata": {},
   "outputs": [
    {
     "data": {
      "text/plain": [
       "139656.41"
      ]
     },
     "execution_count": 20,
     "metadata": {},
     "output_type": "execute_result"
    }
   ],
   "source": [
    "resultado"
   ]
  },
  {
   "cell_type": "code",
   "execution_count": 21,
   "metadata": {},
   "outputs": [
    {
     "data": {
      "text/plain": [
       "1187755.95"
      ]
     },
     "execution_count": 21,
     "metadata": {},
     "output_type": "execute_result"
    }
   ],
   "source": [
    "resultado_ci"
   ]
  },
  {
   "cell_type": "code",
   "execution_count": 23,
   "metadata": {},
   "outputs": [
    {
     "data": {
      "text/html": [
       "<div>\n",
       "<style scoped>\n",
       "    .dataframe tbody tr th:only-of-type {\n",
       "        vertical-align: middle;\n",
       "    }\n",
       "\n",
       "    .dataframe tbody tr th {\n",
       "        vertical-align: top;\n",
       "    }\n",
       "\n",
       "    .dataframe thead th {\n",
       "        text-align: right;\n",
       "    }\n",
       "</style>\n",
       "<table border=\"1\" class=\"dataframe\">\n",
       "  <thead>\n",
       "    <tr style=\"text-align: right;\">\n",
       "      <th></th>\n",
       "      <th>fechas</th>\n",
       "      <th>sueldos</th>\n",
       "      <th>indice</th>\n",
       "      <th>actualizados</th>\n",
       "    </tr>\n",
       "  </thead>\n",
       "  <tbody>\n",
       "    <tr>\n",
       "      <th>0</th>\n",
       "      <td>2019-11</td>\n",
       "      <td>58000.0</td>\n",
       "      <td>5554.15</td>\n",
       "      <td>77294.45</td>\n",
       "    </tr>\n",
       "    <tr>\n",
       "      <th>1</th>\n",
       "      <td>2019-12</td>\n",
       "      <td>65000.0</td>\n",
       "      <td>5666.48</td>\n",
       "      <td>84905.91</td>\n",
       "    </tr>\n",
       "    <tr>\n",
       "      <th>2</th>\n",
       "      <td>2020-01</td>\n",
       "      <td>60000.0</td>\n",
       "      <td>6066.07</td>\n",
       "      <td>73211.91</td>\n",
       "    </tr>\n",
       "    <tr>\n",
       "      <th>3</th>\n",
       "      <td>2020-02</td>\n",
       "      <td>60000.0</td>\n",
       "      <td>6445.13</td>\n",
       "      <td>68906.07</td>\n",
       "    </tr>\n",
       "    <tr>\n",
       "      <th>4</th>\n",
       "      <td>2020-03</td>\n",
       "      <td>63000.0</td>\n",
       "      <td>6500.72</td>\n",
       "      <td>71732.67</td>\n",
       "    </tr>\n",
       "    <tr>\n",
       "      <th>5</th>\n",
       "      <td>2020-04</td>\n",
       "      <td>63000.0</td>\n",
       "      <td>6510.18</td>\n",
       "      <td>71628.44</td>\n",
       "    </tr>\n",
       "    <tr>\n",
       "      <th>6</th>\n",
       "      <td>2020-05</td>\n",
       "      <td>63000.0</td>\n",
       "      <td>6521.87</td>\n",
       "      <td>71500.05</td>\n",
       "    </tr>\n",
       "    <tr>\n",
       "      <th>7</th>\n",
       "      <td>2020-06</td>\n",
       "      <td>72000.0</td>\n",
       "      <td>6670.93</td>\n",
       "      <td>79888.46</td>\n",
       "    </tr>\n",
       "    <tr>\n",
       "      <th>8</th>\n",
       "      <td>2020-07</td>\n",
       "      <td>65000.0</td>\n",
       "      <td>6908.52</td>\n",
       "      <td>69641.20</td>\n",
       "    </tr>\n",
       "    <tr>\n",
       "      <th>9</th>\n",
       "      <td>2020-08</td>\n",
       "      <td>65000.0</td>\n",
       "      <td>6945.86</td>\n",
       "      <td>69266.82</td>\n",
       "    </tr>\n",
       "    <tr>\n",
       "      <th>10</th>\n",
       "      <td>2020-09</td>\n",
       "      <td>65000.0</td>\n",
       "      <td>7076.47</td>\n",
       "      <td>67988.37</td>\n",
       "    </tr>\n",
       "  </tbody>\n",
       "</table>\n",
       "</div>"
      ],
      "text/plain": [
       "     fechas  sueldos   indice  actualizados\n",
       "0   2019-11  58000.0  5554.15      77294.45\n",
       "1   2019-12  65000.0  5666.48      84905.91\n",
       "2   2020-01  60000.0  6066.07      73211.91\n",
       "3   2020-02  60000.0  6445.13      68906.07\n",
       "4   2020-03  63000.0  6500.72      71732.67\n",
       "5   2020-04  63000.0  6510.18      71628.44\n",
       "6   2020-05  63000.0  6521.87      71500.05\n",
       "7   2020-06  72000.0  6670.93      79888.46\n",
       "8   2020-07  65000.0  6908.52      69641.20\n",
       "9   2020-08  65000.0  6945.86      69266.82\n",
       "10  2020-09  65000.0  7076.47      67988.37"
      ]
     },
     "execution_count": 23,
     "metadata": {},
     "output_type": "execute_result"
    }
   ],
   "source": [
    "cliente[['fechas','sueldos','indice','actualizados']]"
   ]
  }
 ],
 "metadata": {
  "kernelspec": {
   "display_name": "Python 3.10.0 64-bit",
   "language": "python",
   "name": "python3"
  },
  "language_info": {
   "codemirror_mode": {
    "name": "ipython",
    "version": 3
   },
   "file_extension": ".py",
   "mimetype": "text/x-python",
   "name": "python",
   "nbconvert_exporter": "python",
   "pygments_lexer": "ipython3",
   "version": "3.10.0"
  },
  "orig_nbformat": 4,
  "vscode": {
   "interpreter": {
    "hash": "bb005c365038adc55fb7897537444f2e763afd05144f871366f10ce7eef6d0d6"
   }
  }
 },
 "nbformat": 4,
 "nbformat_minor": 2
}
