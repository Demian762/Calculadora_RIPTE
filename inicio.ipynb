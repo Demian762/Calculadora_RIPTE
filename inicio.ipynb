{
 "cells": [
  {
   "cell_type": "code",
   "execution_count": 16,
   "metadata": {},
   "outputs": [],
   "source": [
    "import numpy as np\n",
    "import pandas as pd"
   ]
  },
  {
   "cell_type": "code",
   "execution_count": 17,
   "metadata": {},
   "outputs": [],
   "source": [
    "\"\"\"\n",
    "Inputs de muestra\n",
    "\"\"\"\n",
    "\n",
    "nombres = \"Juan Prueba\"\n",
    "\n",
    "fecha_accidente = \"2020-09\"\n",
    "\n",
    "sueldos = [\n",
    "            58000,\n",
    "            58000,\n",
    "            68000,\n",
    "            70000,\n",
    "            65000,\n",
    "            65000,\n",
    "            65000,\n",
    "            65000,\n",
    "            65000,\n",
    "            75000,\n",
    "            70000,\n",
    "            70000,           \n",
    "]\n",
    "sueldos = list(filter(None, sueldos))\n",
    "sueldos = list(map(float,sueldos))\n",
    "\n",
    "edad = 28\n",
    "\n",
    "incapacidad = 33\n",
    "\n",
    "tipo_accidente = 1 # 'in_itinere=0','en_ocasion=1'"
   ]
  },
  {
   "cell_type": "code",
   "execution_count": 18,
   "metadata": {},
   "outputs": [],
   "source": [
    "\"\"\"\n",
    "Preparación del dataframe general de ripte\n",
    "\"\"\"\n",
    "\n",
    "ripte = pd.read_csv('https://github.com/Demian762/Calculadora_RIPTE/blob/main/ripte.csv?raw=true')\n",
    "ripte['fechas'] = ripte['fechas'].astype('datetime64')\n",
    "ripte['fechas'] = ripte['fechas'].dt.to_period('M')"
   ]
  },
  {
   "cell_type": "code",
   "execution_count": 19,
   "metadata": {},
   "outputs": [],
   "source": [
    "\"\"\"\n",
    "Cargando las tasas de una pagina random porque al BNA le chupa un huevo\n",
    "\"\"\"\n",
    "tasas = pd.read_csv('https://github.com/Demian762/Calculadora_RIPTE/blob/main/tasas.csv?raw=true')\n",
    "tasas['fechas'] = tasas['fechas'].astype('datetime64')\n",
    "tasas['fechas'] = tasas['fechas'].dt.to_period('M')"
   ]
  },
  {
   "cell_type": "code",
   "execution_count": 20,
   "metadata": {},
   "outputs": [],
   "source": [
    "\"\"\"\n",
    "Creacion y merge del dataframe particular del cliente\n",
    "\"\"\"\n",
    "\n",
    "cliente = pd.DataFrame(sueldos)\n",
    "cliente = cliente.rename(columns={0:'sueldos'})\n",
    "\n",
    "cliente['fechas'] = pd.date_range(end=fecha_accidente,freq='M',periods=len(sueldos))\n",
    "cliente['fechas'] = cliente['fechas'].dt.to_period('M')\n",
    "\n",
    "cliente = pd.merge(cliente, ripte, on='fechas', how='left')\n",
    "cliente = pd.merge(cliente, tasas, on=\"fechas\", how=\"left\")\n",
    "\n",
    "indice = ripte[ripte['fechas']==fecha_accidente].final\n",
    "indice = float(indice)\n",
    "\n",
    "cliente['coeficiente'] = 0.0\n",
    "\n",
    "cliente = cliente.assign(coeficiente = lambda x: (indice/x['final']))\n",
    "cliente = cliente.assign(actualizados = lambda x: (x['sueldos']*x['coeficiente']))\n",
    "cliente = cliente.round(2)\n",
    "\n",
    "cliente.loc[0,\"nombres\"] = nombres\n",
    "cliente.loc[0,\"edad\"] = edad\n",
    "cliente.loc[0,\"incapacidad\"] = incapacidad\n",
    "cliente.loc[0,\"fecha\"] = pd.to_datetime(fecha_accidente, format=\"%Y/%m/\")"
   ]
  },
  {
   "cell_type": "code",
   "execution_count": 21,
   "metadata": {},
   "outputs": [],
   "source": [
    "\"\"\"\n",
    "Resultados finales\n",
    "\"\"\"\n",
    "\n",
    "vib_ripte = cliente['actualizados'].mean().round(2)\n",
    "\n",
    "fecha_calculo_final = cliente['fechas'].max()\n",
    "\n",
    "tasa_interes = tasas[tasas['fechas'] > fecha_calculo_final]['tasas'].sum()/100 + 1\n",
    "\n",
    "vib_ripte_tasa = (vib_ripte * tasa_interes).round(2)\n",
    "\n",
    "tasa_interes = str(((tasa_interes - 1) * 100).round(2)) + \" %\"\n",
    "\n",
    "indemnizacion = 53 * vib_ripte_tasa *  (65/edad) * incapacidad/(100)\n",
    "indemnizacion = round(indemnizacion,2)\n",
    "\n",
    "if tipo_accidente == 1:\n",
    "    indemnizacion = round(indemnizacion*1.2,2)\n",
    "else:\n",
    "    indemnizacion = indemnizacion\n"
   ]
  },
  {
   "cell_type": "code",
   "execution_count": 22,
   "metadata": {},
   "outputs": [
    {
     "name": "stdout",
     "output_type": "stream",
     "text": [
      "75814.7\n",
      "94.48 %\n",
      "147445.79\n",
      "7183874.84\n"
     ]
    }
   ],
   "source": [
    "print(vib_ripte)\n",
    "print(tasa_interes)\n",
    "print(vib_ripte_tasa)\n",
    "print(indemnizacion)"
   ]
  }
 ],
 "metadata": {
  "kernelspec": {
   "display_name": "Python 3.10.0 64-bit",
   "language": "python",
   "name": "python3"
  },
  "language_info": {
   "codemirror_mode": {
    "name": "ipython",
    "version": 3
   },
   "file_extension": ".py",
   "mimetype": "text/x-python",
   "name": "python",
   "nbconvert_exporter": "python",
   "pygments_lexer": "ipython3",
   "version": "3.10.0"
  },
  "orig_nbformat": 4,
  "vscode": {
   "interpreter": {
    "hash": "bb005c365038adc55fb7897537444f2e763afd05144f871366f10ce7eef6d0d6"
   }
  }
 },
 "nbformat": 4,
 "nbformat_minor": 2
}
